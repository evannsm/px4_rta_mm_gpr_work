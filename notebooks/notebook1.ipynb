{
 "cells": [
  {
   "cell_type": "code",
   "execution_count": 11,
   "id": "823991c0",
   "metadata": {},
   "outputs": [],
   "source": [
    "time_from_start = 14.0\n",
    "land_time = 30\n",
    "z = -0.7\n"
   ]
  },
  {
   "cell_type": "code",
   "execution_count": 12,
   "id": "7cd33a3a",
   "metadata": {},
   "outputs": [],
   "source": [
    "if time_from_start > land_time or ((abs(z) < 0.8 and time_from_start > 15)):\n",
    "    print(\"Landing...\")"
   ]
  },
  {
   "cell_type": "code",
   "execution_count": null,
   "id": "024c5324",
   "metadata": {},
   "outputs": [],
   "source": []
  }
 ],
 "metadata": {
  "kernelspec": {
   "display_name": "immrax",
   "language": "python",
   "name": "python3"
  },
  "language_info": {
   "codemirror_mode": {
    "name": "ipython",
    "version": 3
   },
   "file_extension": ".py",
   "mimetype": "text/x-python",
   "name": "python",
   "nbconvert_exporter": "python",
   "pygments_lexer": "ipython3",
   "version": "3.11.13"
  }
 },
 "nbformat": 4,
 "nbformat_minor": 5
}
